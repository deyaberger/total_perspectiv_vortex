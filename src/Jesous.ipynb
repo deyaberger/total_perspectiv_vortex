{
 "cells": [
  {
   "attachments": {},
   "cell_type": "markdown",
   "metadata": {},
   "source": [
    "# Imports"
   ]
  },
  {
   "cell_type": "code",
   "execution_count": 1,
   "metadata": {},
   "outputs": [],
   "source": [
    "import numpy as np\n",
    "import matplotlib.pyplot as plt\n",
    "\n",
    "from sklearn.pipeline import Pipeline\n",
    "from sklearn.discriminant_analysis import LinearDiscriminantAnalysis\n",
    "from sklearn.model_selection import ShuffleSplit, cross_val_score\n",
    "\n",
    "from mne import Epochs, pick_types, events_from_annotations, set_log_level\n",
    "from mne.channels import make_standard_montage\n",
    "from mne.io import concatenate_raws, read_raw_edf\n",
    "from mne.datasets import eegbci\n",
    "from mne.decoding import CSP\n",
    "from tqdm.notebook import tqdm\n",
    "\n",
    "set_log_level(\"WARNING\")\n"
   ]
  },
  {
   "attachments": {},
   "cell_type": "markdown",
   "metadata": {},
   "source": [
    "# Get Data (1 subject)"
   ]
  },
  {
   "cell_type": "code",
   "execution_count": 2,
   "metadata": {},
   "outputs": [],
   "source": [
    "epochs_list = []\n",
    "for subject in range(1, 28):\n",
    "    tmin, tmax = -1., 4.\n",
    "    event_id = dict(hands=2, feet=3)\n",
    "    runs = [6, 10, 14]  # motor imagery: hands vs feet\n",
    "\n",
    "    noisy_channels = ['AF7', 'AF3', 'AFz', 'AF4', 'AF8', 'Fp1', 'Fpz', 'Fp2', 'P7', 'P5', 'P3', 'P1', 'P2', 'P4', 'P6',\n",
    "                        'P8', 'PO7', 'PO3', 'POz', 'PO4', 'PO8', 'Iz']\n",
    "\n",
    "    raw_fnames = eegbci.load_data(subject, runs)\n",
    "    raw = concatenate_raws([read_raw_edf(f, preload=True) for f in raw_fnames])\n",
    "    eegbci.standardize(raw)  # set channel names\n",
    "    montage = make_standard_montage('standard_1005')\n",
    "    raw.set_montage(montage)\n",
    "\n",
    "    # Apply band-pass filter\n",
    "    raw.filter(7., 30., fir_design='firwin', skip_by_annotation='edge')\n",
    "\n",
    "    events, _ = events_from_annotations(raw, event_id=dict(T1=2, T2=3))\n",
    "\n",
    "    picks = pick_types(raw.info, meg=False, eeg=True, stim=False, eog=False,\n",
    "                    exclude=noisy_channels)\n",
    "    # Read epochs (train will be done only between 1 and 2s)\n",
    "    # Testing will be done with a running classifier\n",
    "    epochs = Epochs(raw, events, event_id, tmin, tmax, proj=True, picks=picks, baseline=None, preload=True)\n",
    "    # epochs_train = epochs.copy().crop(tmin=1., tmax=2.)\n",
    "    # epochs_data = epochs.get_data()\n",
    "    # # epochs_data_train = epochs_train.get_data()\n",
    "    # # labels = epochs.events[:, -1] - 2\n",
    "    # labels = epochs.events[:, -1] - 2\n",
    "    # print(epochs_data.shape)\n",
    "    epochs_list.append(epochs)"
   ]
  },
  {
   "cell_type": "code",
   "execution_count": 37,
   "metadata": {},
   "outputs": [
    {
     "name": "stdout",
     "output_type": "stream",
     "text": [
      "epochs_data_list.shape = (27, 45, 42, 801)\n",
      "epochs_data_stak.shape = (1215, 42, 801)\n",
      "\n",
      "labels_list.shape = (27, 45)\n",
      "labels_stak.shape = (1215,)\n"
     ]
    }
   ],
   "source": [
    "import numpy as np\n",
    "\n",
    "epochs_data_list = []\n",
    "labels_list = []\n",
    "for epochs in epochs_list:\n",
    "    epochs_data = epochs.get_data()\n",
    "    labels = epochs.events[:, -1]\n",
    "    epochs_data_list.append(epochs_data)\n",
    "    labels_list.append(labels)\n",
    "\n",
    "epochs_data_list = np.array(epochs_data_list)\n",
    "labels_list = np.array(labels_list)\n",
    "\n",
    "# TODO THIS BREAKS TIMESTAMPLES\n",
    "epochs_data_stak = np.vstack(epochs_data_list)\n",
    "print(f\"{epochs_data_list.shape = }\\n{epochs_data_stak.shape = }\")\n",
    "print()\n",
    "# TODO verify label to epoch correspondance\n",
    "labels_stak = np.hstack(labels_list)\n",
    "\n",
    "print(f\"{labels_list.shape = }\\n{labels_stak.shape = }\")\n"
   ]
  },
  {
   "attachments": {},
   "cell_type": "markdown",
   "metadata": {},
   "source": [
    "# Define Pipeline & Cross validation"
   ]
  },
  {
   "cell_type": "code",
   "execution_count": 44,
   "metadata": {},
   "outputs": [
    {
     "name": "stdout",
     "output_type": "stream",
     "text": [
      "Classification accuracy: 0.355556 / Chance level: 0.511111\n"
     ]
    }
   ],
   "source": [
    "\n",
    "# Define a monte-carlo cross-validation generator (reduce variance):\n",
    "scores = []\n",
    "cv = ShuffleSplit(10, test_size=0.2, random_state=42)\n",
    "cv_split = cv.split(epochs_data)\n",
    "\n",
    "# Assemble a classifier\n",
    "lda = LinearDiscriminantAnalysis()\n",
    "csp = CSP(n_components=4, reg=None, log=True, norm_trace=False)\n",
    "\n",
    "# Use scikit-learn Pipeline with cross_val_score function\n",
    "clf = Pipeline([('CSP', csp), ('LDA', lda)])\n",
    "scores = cross_val_score(clf, epochs_data, labels, cv=cv, n_jobs=None)\n",
    "# scores = cross_val_score(clf, epochs_data_stak, labels_stak, cv=cv, n_jobs=None)\n",
    "\n",
    "# Printing the results\n",
    "class_balance = np.mean(labels == labels[0])\n",
    "class_balance = max(class_balance, 1. - class_balance)\n",
    "print(\"Classification accuracy: %f / Chance level: %f\" % (np.mean(scores), class_balance))\n"
   ]
  },
  {
   "attachments": {},
   "cell_type": "markdown",
   "metadata": {},
   "source": [
    "# Training"
   ]
  },
  {
   "cell_type": "code",
   "execution_count": 7,
   "metadata": {},
   "outputs": [
    {
     "data": {
      "text/plain": [
       "(45, 42, 801)"
      ]
     },
     "execution_count": 7,
     "metadata": {},
     "output_type": "execute_result"
    }
   ],
   "source": [
    "lda = LinearDiscriminantAnalysis()\n",
    "csp = CSP(n_components=4, reg=None, log=True, norm_trace=False)\n",
    "epochs_data = epochs.get_data()\n",
    "epochs_data.shape"
   ]
  }
 ],
 "metadata": {
  "kernelspec": {
   "display_name": "venv",
   "language": "python",
   "name": "python3"
  },
  "language_info": {
   "codemirror_mode": {
    "name": "ipython",
    "version": 3
   },
   "file_extension": ".py",
   "mimetype": "text/x-python",
   "name": "python",
   "nbconvert_exporter": "python",
   "pygments_lexer": "ipython3",
   "version": "3.8.10"
  },
  "orig_nbformat": 4
 },
 "nbformat": 4,
 "nbformat_minor": 2
}
