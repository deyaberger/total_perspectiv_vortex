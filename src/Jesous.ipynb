{
 "cells": [
  {
   "attachments": {},
   "cell_type": "markdown",
   "metadata": {},
   "source": [
    "# Imports"
   ]
  },
  {
   "cell_type": "code",
   "execution_count": 53,
   "metadata": {},
   "outputs": [],
   "source": [
    "import numpy as np\n",
    "import matplotlib.pyplot as plt\n",
    "from typing import List\n",
    "\n",
    "from sklearn.pipeline import Pipeline\n",
    "from sklearn.discriminant_analysis import LinearDiscriminantAnalysis as LDA\n",
    "from sklearn.model_selection import ShuffleSplit, cross_val_score, train_test_split\n",
    "\n",
    "import mne\n",
    "from mne import Epochs, pick_types, events_from_annotations, set_log_level\n",
    "from mne.channels import make_standard_montage\n",
    "from mne.io import concatenate_raws, read_raw_edf\n",
    "from mne.datasets import eegbci\n",
    "from mne.decoding import CSP\n",
    "from tqdm.notebook import tqdm\n",
    "\n",
    "set_log_level(\"WARNING\")\n",
    "N_PARALLEL=6"
   ]
  },
  {
   "attachments": {},
   "cell_type": "markdown",
   "metadata": {},
   "source": [
    "# Get Data (1 subject)"
   ]
  },
  {
   "cell_type": "code",
   "execution_count": 12,
   "metadata": {},
   "outputs": [],
   "source": [
    "REAL = \"real\"\n",
    "IMAGINED = \"imagined\"\n",
    "\n",
    "LR = 'L vs R'\n",
    "HAND_FEET = 'Hands vs feet'\n",
    "\n",
    "tasks = [\n",
    "    {\n",
    "        \"name\": \"Real moving hands\",\n",
    "        \"real\": True,\n",
    "        \"type\": LR,\n",
    "        \"runs\": [3, 7, 11],\n",
    "        \"labels\": {0: \"rest\", 1: \"left hand\", 2: \"right hand\"},\n",
    "    },\n",
    "    {\n",
    "        \"name\": \"Imagine moving hands\",\n",
    "        \"real\": False,\n",
    "        \"type\": LR,\n",
    "        \"runs\": [4, 8, 12],\n",
    "        \"labels\": {0: \"rest\", 1: \"imagine left hand\", 2: \"imagine right hand\"},\n",
    "    },\n",
    "    {\n",
    "        \"name\": \"move hands vs feet\",\n",
    "        \"real\": True,\n",
    "        \"type\": HAND_FEET,\n",
    "        \"runs\": [5, 9, 13],\n",
    "        \"labels\": {0: \"rest\", 1: \"hands\", 2: \"feet\"},\n",
    "    },\n",
    "    {\n",
    "        \"name\": \"imagine hands vs feet\",\n",
    "        \"real\": False,\n",
    "        \"type\": HAND_FEET,\n",
    "        \"runs\": [6, 10, 14],\n",
    "        \"labels\": {0: \"rest\", 1: \"imagine both hands\", 2: \"imagine both feet\"},\n",
    "    }\n",
    "]\n",
    "\n",
    "task_number = 0\n",
    "subject = 1\n",
    "\n",
    "tmin, tmax = -1., 4.\n",
    "noisy_channels = ['AF7', 'AF3', 'AFz', 'AF4', 'AF8', 'Fp1', 'Fpz', 'Fp2', 'P7', 'P5', 'P3', 'P1', 'P2', 'P4', 'P6',\n",
    "                    'P8', 'PO7', 'PO3', 'POz', 'PO4', 'PO8', 'Iz']\n",
    "\n",
    "def get_epochs(task_number: int, subject_number: int, tmin: float = -1., tmax: float = 4.0, montage_name: str = 'standard_1005', noisy_channels: List[str] = noisy_channels) -> Epochs:\n",
    "    runs = tasks[task_number]['runs']\n",
    "    labels = tasks[task_number][\"labels\"]\n",
    "\n",
    "    print(f\"Getting epochs for {tasks[task_number]['name']} {subject_number = }.\")\n",
    "\n",
    "    raw_fnames = eegbci.load_data(subject_number, runs)\n",
    "    raw = concatenate_raws([read_raw_edf(f, preload=True) for f in raw_fnames])\n",
    "    eegbci.standardize(raw)  # set channel names\n",
    "    montage = make_standard_montage(montage_name)\n",
    "    raw.set_montage(montage)\n",
    "\n",
    "    events, _ = mne.events_from_annotations(raw, event_id=dict(T1=1, T2=2))\n",
    "    annotations = mne.annotations_from_events(events=events, event_desc=labels, sfreq=raw.info[\"sfreq\"])\n",
    "\n",
    "    raw.drop_channels(noisy_channels)\n",
    "    raw.notch_filter(60, method=\"iir\")\n",
    "    raw.filter(7.0, 32.0, fir_design=\"firwin\", skip_by_annotation=\"edge\")\n",
    "\n",
    "    events, event_ids = mne.events_from_annotations(raw)\n",
    "    picks = pick_types(raw.info, meg=False, eeg=True, stim=False, eog=False,exclude=noisy_channels)\n",
    "    epochs = Epochs(raw, events, event_ids, tmin, tmax, proj=True, picks=picks, baseline=None, preload=True)\n",
    "\n",
    "    return epochs"
   ]
  },
  {
   "cell_type": "code",
   "execution_count": 56,
   "metadata": {},
   "outputs": [
    {
     "name": "stdout",
     "output_type": "stream",
     "text": [
      "Cross validation average 0.76\n",
      "trained_pipeline_score: 0.67\n",
      "0.7611111111111112\n"
     ]
    }
   ],
   "source": [
    "def cross_val_pipeline(pipeline, epochs) -> float:\n",
    "    targets = epochs.events[:, -1]\n",
    "    epochs_data = epochs.copy().crop(tmin=1.0, tmax=4.0).get_data() # They do this cropping on MNE website. Why ?\n",
    "\n",
    "    scores = cross_val_score(pipeline, epochs_data, targets, cv=ShuffleSplit(10, test_size=0.2), n_jobs=None)\n",
    "    print(f\"Cross validation average {scores.mean():.2f}\")\n",
    "    return scores.mean()\n",
    "\n",
    "\n",
    "def train_pipeline(pipeline, epochs) -> Pipeline:\n",
    "    targets = epochs.events[:, -1]\n",
    "    epochs_data = epochs.copy().crop(tmin=1.0, tmax=4.0).get_data() # They do this cropping on MNE website. Why ?\n",
    "\n",
    "    x_train, x_test, y_train, y_test = train_test_split(epochs_data, targets, test_size=0.1, random_state=0)\n",
    "\n",
    "    x_train, y_train = epochs_data, targets\n",
    "    pipeline.fit(X=x_train, y=y_train)\n",
    "    score = pipeline.score(X=x_test, y=y_test)\n",
    "    print(f\"trained_pipeline_score: {score:.2f}\")\n",
    "\n",
    "    return pipeline\n",
    "\n",
    "\n",
    "# print()\n",
    "e = get_epochs(task_number=0, subject_number=16)\n",
    "\n",
    "csp = CSP(n_components=4)\n",
    "lda_shrimp = LDA(solver='lsqr', shrinkage='auto')\n",
    "pipeline = Pipeline([(\"CSP\", csp), (\"LDA\", lda_shrimp)])\n",
    "\n",
    "score = cross_val_pipeline(pipeline, e)\n",
    "trained_pipeline = train_pipeline(pipeline, e)\n",
    "print(score)\n"
   ]
  },
  {
   "cell_type": "code",
   "execution_count": 62,
   "metadata": {},
   "outputs": [
    {
     "ename": "SyntaxError",
     "evalue": "invalid syntax (4076240604.py, line 10)",
     "output_type": "error",
     "traceback": [
      "\u001b[0;36m  Cell \u001b[0;32mIn[62], line 10\u001b[0;36m\u001b[0m\n\u001b[0;31m    else if model == 'classic':\u001b[0m\n\u001b[0m         ^\u001b[0m\n\u001b[0;31mSyntaxError\u001b[0m\u001b[0;31m:\u001b[0m invalid syntax\n"
     ]
    }
   ],
   "source": [
    "number_of_subjects = 4\n",
    "models = ['classic', 'shrimp']\n",
    "results = {}\n",
    "\n",
    "def build_pipe(model: str = 'classic') -> Pipeline:\n",
    "    if (model == 'shrimp'):\n",
    "        csp = CSP(n_components=4)\n",
    "        lda_shrimp = LDA(solver='lsqr', shrinkage='auto')\n",
    "        pipeline = Pipeline([(\"CSP\", csp), (\"LDA\", lda_shrimp)])\n",
    "    else if model == 'classic':\n",
    "        csp = CSP(n_components=4)\n",
    "        lda = LDA()\n",
    "        pipeline = Pipeline([(\"CSP\", csp), (\"LDA\", lda)])\n",
    "    return pipeline\n",
    "\n",
    "\n",
    "\n",
    "for model in models:\n",
    "    print(\"training model \", model)\n",
    "    metrics = {}\n",
    "    results[model] = metrics\n",
    "    for task_number in range(4):\n",
    "        task = tasks[task_number]\n",
    "        metrics[f\"{task['name']}\"] = cross_val_scores\n",
    "        print(f\"Starting model training for task {task['name']}\")\n",
    "        for subject in tqdm(range(1, number_of_subjects + 1)):\n",
    "            epochs = get_epochs(task_number, subject)\n",
    "            pipe = build_pipe(model=model)\n",
    "            cross_val_scores.append(cross_val_pipeline(pipe, epochs))\n",
    "            # trained_pipeline = train_pipeline(pipe, epochs)\n",
    "\n"
   ]
  },
  {
   "attachments": {},
   "cell_type": "markdown",
   "metadata": {},
   "source": [
    "# Define Pipeline & Cross validation"
   ]
  },
  {
   "cell_type": "code",
   "execution_count": 59,
   "metadata": {},
   "outputs": [
    {
     "name": "stdout",
     "output_type": "stream",
     "text": [
      "Classification accuracy: 0.544856 / Chance level: 0.511111\n"
     ]
    }
   ],
   "source": [
    "\n",
    "# Define a monte-carlo cross-validation generator (reduce variance):\n",
    "scores = []\n",
    "cv = ShuffleSplit(10, test_size=0.2, random_state=42)\n",
    "cv_split = cv.split(epochs_data)\n",
    "\n",
    "# Assemble a classifier\n",
    "lda = LinearDiscriminantAnalysis()\n",
    "csp = CSP(n_components=8, reg=None, log=True, norm_trace=False)\n",
    "\n",
    "# Use scikit-learn Pipeline with cross_val_score function\n",
    "clf = Pipeline([('CSP', csp), ('LDA', lda)])\n",
    "# scores = cross_val_score(clf, epochs_data, labels, cv=cv, n_jobs=None)\n",
    "scores = cross_val_score(clf, epochs_data_stak, labels_stak, cv=cv, n_jobs=None)\n",
    "\n",
    "# Printing the results\n",
    "class_balance = np.mean(labels == labels[0])\n",
    "class_balance = max(class_balance, 1. - class_balance)\n",
    "print(\"Classification accuracy: %f / Chance level: %f\" % (np.mean(scores), class_balance))\n"
   ]
  },
  {
   "attachments": {},
   "cell_type": "markdown",
   "metadata": {},
   "source": [
    "# Training"
   ]
  },
  {
   "cell_type": "code",
   "execution_count": 60,
   "metadata": {},
   "outputs": [
    {
     "data": {
      "text/plain": [
       "(45, 64, 801)"
      ]
     },
     "execution_count": 60,
     "metadata": {},
     "output_type": "execute_result"
    }
   ],
   "source": [
    "lda = LinearDiscriminantAnalysis()\n",
    "csp = CSP(n_components=4, reg=None, log=True, norm_trace=False)\n",
    "clf = Pipeline([('CSP', csp), ('LDA', lda)])\n",
    "epochs_data = epochs.get_data()\n",
    "epochs_data.shape"
   ]
  },
  {
   "cell_type": "code",
   "execution_count": 61,
   "metadata": {},
   "outputs": [
    {
     "name": "stderr",
     "output_type": "stream",
     "text": [
      " 50%|█████     | 5/10 [00:31<00:31,  6.23s/it]"
     ]
    }
   ],
   "source": [
    "from tqdm import tqdm\n",
    "\n",
    "sfreq = raw.info['sfreq']\n",
    "w_length = int(sfreq * 0.5)   # running classifier: window length\n",
    "w_step = int(sfreq * 0.1)  # running classifier: window step size\n",
    "w_start = np.arange(0, epochs_data.shape[2] - w_length, w_step)\n",
    "\n",
    "scores_windows = []\n",
    "\n",
    "cv_split = cv.split(epochs_data_stak)\n",
    "train_indexes, test_indexes = next(cv_split)\n",
    "\n",
    "scores = []\n",
    "for i in tqdm(range(10)):\n",
    "    # y_train, y_test = labels[train_idx], labels[test_idx]\n",
    "\n",
    "    X_train = csp.fit_transform(epochs_data_stak[train_indexes], labels_stak[train_indexes])\n",
    "    X_test = csp.transform(epochs_data_stak[test_indexes])\n",
    "\n",
    "    # fit classifier\n",
    "    lda.fit(X_train, labels_stak[train_indexes])\n",
    "    scores.append(lda.score(X_test, labels_stak[test_indexes]))\n",
    "    # running classifier: test classifier on sliding window\n",
    "    score_this_window = []\n",
    "    for n in w_start:\n",
    "        X_test = csp.transform(epochs_data_stak[test_indexes][:, :, n:(n + w_length)])\n",
    "        score_this_window.append(lda.score(X_test, labels_stak[test_indexes]))\n",
    "    scores_windows.append(score_this_window)\n",
    "\n",
    "# Plot scores over time\n",
    "w_times = (w_start + w_length / 2.) / sfreq + epochs.tmin\n",
    "\n",
    "plt.figure()\n",
    "# plt.plot(w_times, np.mean(scores_windows, 0), label='Score')\n",
    "plt.plot(scores, label='Scores')\n",
    "plt.axvline(0, linestyle='--', color='k', label='Onset')\n",
    "plt.axhline(0.5, linestyle='-', color='k', label='Chance')\n",
    "plt.xlabel('time (s)')\n",
    "plt.ylabel('classification accuracy')\n",
    "plt.title('Classification score over time')\n",
    "plt.legend(loc='lower right')\n",
    "plt.show()"
   ]
  },
  {
   "cell_type": "code",
   "execution_count": null,
   "metadata": {},
   "outputs": [
    {
     "data": {
      "text/plain": [
       "[<matplotlib.lines.Line2D at 0x7f0742888fa0>]"
      ]
     },
     "execution_count": 55,
     "metadata": {},
     "output_type": "execute_result"
    },
    {
     "data": {
      "image/png": "[encoded data removed]",
      "text/plain": [
       "<Figure size 640x480 with 1 Axes>"
      ]
     },
     "metadata": {},
     "output_type": "display_data"
    }
   ],
   "source": [
    "plt.plot(scores, label='Scores')\n"
   ]
  }
 ],
 "metadata": {
  "kernelspec": {
   "display_name": "venv",
   "language": "python",
   "name": "python3"
  },
  "language_info": {
   "codemirror_mode": {
    "name": "ipython",
    "version": 3
   },
   "file_extension": ".py",
   "mimetype": "text/x-python",
   "name": "python",
   "nbconvert_exporter": "python",
   "pygments_lexer": "ipython3",
   "version": "3.8.10"
  },
  "orig_nbformat": 4
 },
 "nbformat": 4,
 "nbformat_minor": 2
}
