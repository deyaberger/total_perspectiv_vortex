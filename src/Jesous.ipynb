{
 "cells": [
  {
   "attachments": {},
   "cell_type": "markdown",
   "metadata": {},
   "source": [
    "# Imports"
   ]
  },
  {
   "cell_type": "code",
   "execution_count": 2,
   "metadata": {},
   "outputs": [],
   "source": [
    "import numpy as np\n",
    "import matplotlib.pyplot as plt\n",
    "from typing import List\n",
    "\n",
    "from sklearn.pipeline import Pipeline\n",
    "from sklearn.discriminant_analysis import LinearDiscriminantAnalysis as LDA\n",
    "from sklearn.model_selection import ShuffleSplit, cross_val_score, train_test_split\n",
    "\n",
    "import mne\n",
    "from mne import Epochs, pick_types, events_from_annotations, set_log_level\n",
    "from mne.channels import make_standard_montage\n",
    "from mne.io import concatenate_raws, read_raw_edf\n",
    "from mne.datasets import eegbci\n",
    "from mne.decoding import CSP\n",
    "from tqdm.notebook import tqdm\n",
    "\n",
    "set_log_level(\"WARNING\")\n",
    "N_PARALLEL=6"
   ]
  },
  {
   "attachments": {},
   "cell_type": "markdown",
   "metadata": {},
   "source": [
    "# Get Data (1 subject)"
   ]
  },
  {
   "cell_type": "code",
   "execution_count": 3,
   "metadata": {},
   "outputs": [
    {
     "data": {
      "text/html": [
       "<table class=\"table table-hover table-striped table-sm table-responsive small\">\n",
       "    <tr>\n",
       "        <th>Number of events</th>\n",
       "        <td>67</td>\n",
       "    </tr>\n",
       "    <tr>\n",
       "        <th>Events</th>\n",
       "        \n",
       "        <td>left hand: 44<br/>right hand: 23</td>\n",
       "        \n",
       "    </tr>\n",
       "    <tr>\n",
       "        <th>Time range</th>\n",
       "        <td>-1.000 – 4.000 sec</td>\n",
       "    </tr>\n",
       "    <tr>\n",
       "        <th>Baseline</th>\n",
       "        <td>-1.000 – 0.000 sec</td>\n",
       "    </tr>\n",
       "</table>"
      ],
      "text/plain": [
       "<Epochs |  67 events (all good), -1 - 4 sec, baseline -1 – 0 sec, ~17.3 MB, data loaded,\n",
       " 'left hand': 44\n",
       " 'right hand': 23>"
      ]
     },
     "execution_count": 3,
     "metadata": {},
     "output_type": "execute_result"
    }
   ],
   "source": [
    "REAL = \"real\"\n",
    "IMAGINED = \"imagined\"\n",
    "\n",
    "LR = 'L vs R'\n",
    "HAND_FEET = 'Hands vs feet'\n",
    "\n",
    "tasks = [\n",
    "    {\n",
    "        \"name\": \"Real moving hands\",\n",
    "        \"real\": True,\n",
    "        \"type\": LR,\n",
    "        \"runs\": [3, 7, 11],\n",
    "        \"labels\": {0: \"rest\", 1: \"left hand\", 2: \"right hand\"},\n",
    "    },\n",
    "    {\n",
    "        \"name\": \"Imagine moving hands\",\n",
    "        \"real\": False,\n",
    "        \"type\": LR,\n",
    "        \"runs\": [4, 8, 12],\n",
    "        \"labels\": {0: \"rest\", 1: \"imagine left hand\", 2: \"imagine right hand\"},\n",
    "    },\n",
    "    {\n",
    "        \"name\": \"move hands vs feet\",\n",
    "        \"real\": True,\n",
    "        \"type\": HAND_FEET,\n",
    "        \"runs\": [5, 9, 13],\n",
    "        \"labels\": {0: \"rest\", 1: \"hands\", 2: \"feet\"},\n",
    "    },\n",
    "    {\n",
    "        \"name\": \"imagine hands vs feet\",\n",
    "        \"real\": False,\n",
    "        \"type\": HAND_FEET,\n",
    "        \"runs\": [6, 10, 14],\n",
    "        \"labels\": {0: \"rest\", 1: \"imagine both hands\", 2: \"imagine both feet\"},\n",
    "    }\n",
    "]\n",
    "\n",
    "task_number = 0\n",
    "subject = 1\n",
    "\n",
    "tmin, tmax = -1., 4.\n",
    "noisy_channels = ['AF7', 'AF3', 'AFz', 'AF4', 'AF8', 'Fp1', 'Fpz', 'Fp2', 'P7', 'P5', 'P3', 'P1', 'P2', 'P4', 'P6',\n",
    "                    'P8', 'PO7', 'PO3', 'POz', 'PO4', 'PO8', 'Iz']\n",
    "\n",
    "def get_epochs(task_number: int, subject_number: int, baseline: float = None, tmin: float = -1., tmax: float = 4.0, montage_name: str = 'standard_1005', noisy_channels: List[str] = noisy_channels) -> Epochs:\n",
    "    runs = tasks[task_number]['runs']\n",
    "    labels = tasks[task_number][\"labels\"]\n",
    "\n",
    "    # print(f\"Getting epochs for {tasks[task_number]['name']} {subject_number = }.\")\n",
    "\n",
    "    raw_fnames = eegbci.load_data(subject_number, runs)\n",
    "    raw = concatenate_raws([read_raw_edf(f, preload=True) for f in raw_fnames])\n",
    "    eegbci.standardize(raw)  # set channel names\n",
    "    montage = make_standard_montage(montage_name)\n",
    "    raw.set_montage(montage)\n",
    "\n",
    "    events, _ = mne.events_from_annotations(raw)\n",
    "    # TODO event_id should be here or not ?\n",
    "    # events, _ = events_from_annotations(raw, event_id=dict(T1=1, T2=2))\n",
    "    # print(events.shape, events)\n",
    "\n",
    "    annotations = mne.annotations_from_events(events=events, event_desc=labels, sfreq=raw.info[\"sfreq\"])\n",
    "    raw.set_annotations(annotations)\n",
    "    raw.drop_channels(noisy_channels)\n",
    "    raw.notch_filter(60, method=\"iir\")\n",
    "    raw.filter(7.0, 32.0, fir_design=\"firwin\", skip_by_annotation=\"edge\")\n",
    "\n",
    "    events, event_ids = mne.events_from_annotations(raw)\n",
    "    picks = pick_types(raw.info, meg=False, eeg=True, stim=False, eog=False,exclude=noisy_channels)\n",
    "    if baseline:\n",
    "        epochs = Epochs(raw, events, event_ids, tmin, tmax, proj=True, picks=picks, baseline=(tmin, tmin + 1.), preload=True)\n",
    "    else:\n",
    "        epochs = Epochs(raw, events, event_ids, tmin, tmax, proj=True, picks=picks, preload=True)\n",
    "\n",
    "    return epochs\n",
    "\n",
    "get_epochs(0, 1)"
   ]
  },
  {
   "cell_type": "code",
   "execution_count": 4,
   "metadata": {},
   "outputs": [
    {
     "name": "stdout",
     "output_type": "stream",
     "text": [
      "trained_pipeline_score: 1.00\n",
      "0.7714285714285714\n"
     ]
    }
   ],
   "source": [
    "def build_pipe(lda_name: str = 'classic', csp_components: int = 4) -> Pipeline:\n",
    "    if (lda_name == 'shrimp'):\n",
    "        lda = LDA(solver='lsqr', shrinkage='auto')\n",
    "    elif lda_name == 'classic':\n",
    "        lda = LDA()\n",
    "    csp = CSP(n_components=csp_components)\n",
    "    pipeline = Pipeline([(\"CSP\", csp), (\"LDA\", lda)])\n",
    "    return pipeline\n",
    "\n",
    "\n",
    "def cross_val_pipeline(pipeline, epochs) -> float:\n",
    "    targets = epochs.events[:, -1]\n",
    "    epochs_data = epochs.copy().crop(tmin=1.0, tmax=4.0).get_data() # They do this cropping on MNE website. Why ?\n",
    "\n",
    "    scores = cross_val_score(pipeline, epochs_data, targets, cv=ShuffleSplit(10, test_size=0.2), n_jobs=None)\n",
    "    # print(f\"Cross validation average {scores.mean():.2f}\")\n",
    "    return scores.mean()\n",
    "\n",
    "\n",
    "def train_pipeline(pipeline: Pipeline, epochs, test_size = 0.1) -> Pipeline:\n",
    "    targets = epochs.events[:, -1]\n",
    "    epochs_data = epochs.copy().crop(tmin=1.0, tmax=4.0).get_data() # They do this cropping on MNE website. Why ?\n",
    "\n",
    "    x_train, x_test, y_train, y_test = train_test_split(epochs_data, targets, test_size=test_size, random_state=0)\n",
    "\n",
    "    x_train, y_train = epochs_data, targets\n",
    "    pipeline.fit(X=x_train, y=y_train)\n",
    "    score = pipeline.score(X=x_test, y=y_test)\n",
    "    print(f\"trained_pipeline_score: {score:.2f}\")\n",
    "\n",
    "    return pipeline\n",
    "\n",
    "\n",
    "# print()\n",
    "e = get_epochs(task_number=0, subject_number=16)\n",
    "\n",
    "csp = CSP(n_components=4)\n",
    "lda_shrimp = LDA(solver='lsqr', shrinkage='auto')\n",
    "pipeline = Pipeline([(\"CSP\", csp), (\"LDA\", lda_shrimp)])\n",
    "\n",
    "score = cross_val_pipeline(pipeline, e)\n",
    "trained_pipeline = train_pipeline(pipeline, e)\n",
    "print(score)\n"
   ]
  },
  {
   "cell_type": "code",
   "execution_count": 24,
   "metadata": {},
   "outputs": [
    {
     "data": {
      "application/vnd.jupyter.widget-view+json": {
       "model_id": "c5545f73e1674c39914c78a6bd02bce4",
       "version_major": 2,
       "version_minor": 0
      },
      "text/plain": [
       "lda_name:   0%|          | 0/2 [00:00<?, ?it/s]"
      ]
     },
     "metadata": {},
     "output_type": "display_data"
    },
    {
     "data": {
      "application/vnd.jupyter.widget-view+json": {
       "model_id": "f2a1008c71f042939b03e9ffeee18bb1",
       "version_major": 2,
       "version_minor": 0
      },
      "text/plain": [
       "csp_n_components:   0%|          | 0/2 [00:00<?, ?it/s]"
      ]
     },
     "metadata": {},
     "output_type": "display_data"
    },
    {
     "data": {
      "application/vnd.jupyter.widget-view+json": {
       "model_id": "b6ddf95d499f40f68ab4276a142986d5",
       "version_major": 2,
       "version_minor": 0
      },
      "text/plain": [
       "baseline_correct:   0%|          | 0/2 [00:00<?, ?it/s]"
      ]
     },
     "metadata": {},
     "output_type": "display_data"
    },
    {
     "data": {
      "application/vnd.jupyter.widget-view+json": {
       "model_id": "2a8c7d6899694e5692fcecd354f08624",
       "version_major": 2,
       "version_minor": 0
      },
      "text/plain": [
       "task_number:   0%|          | 0/4 [00:00<?, ?it/s]"
      ]
     },
     "metadata": {},
     "output_type": "display_data"
    },
    {
     "data": {
      "application/vnd.jupyter.widget-view+json": {
       "model_id": "4ffb40fe4e484f8794507a805bb29764",
       "version_major": 2,
       "version_minor": 0
      },
      "text/plain": [
       "subject:   0%|          | 0/108 [00:00<?, ?it/s]"
      ]
     },
     "metadata": {},
     "output_type": "display_data"
    }
   ],
   "source": [
    "number_of_subjects = 108\n",
    "lda_types = ['classic', 'shrimp']\n",
    "csp_components = [4, 6]\n",
    "# lda_types = ['shrimp']\n",
    "results = {}\n",
    "\n",
    "\n",
    "import pandas as pd\n",
    "training_data = pd.DataFrame(columns=['subject', 'task_number', 'cross_val_score', 'lda_name', 'baseline_corrected', 'csp_n_components'])\n",
    "\n",
    "index = 0\n",
    "for lda_name in tqdm(lda_types, desc='lda_name', leave=False):\n",
    "    for csp_n_components in tqdm(csp_components, desc='csp_n_components', leave=False):\n",
    "        for baseline_correct in tqdm([1.0, None], desc='baseline_correct', leave=False):\n",
    "            for task_number in tqdm(range(4), desc='task_number', leave=False):\n",
    "                for subject in tqdm(range(1, number_of_subjects + 1), desc='subject', leave=False):\n",
    "                    epochs = get_epochs(task_number, subject, baseline=baseline_correct)\n",
    "                    pipe = build_pipe(lda_name=lda_name, csp_components=csp_n_components)\n",
    "                    # pipe = train_pipeline(pipe, epochs, test_size=0.01)\n",
    "                    cross_score = cross_val_pipeline(pipe, epochs)\n",
    "                    model_metrics = {\n",
    "                        'subject': subject,\n",
    "                        'task_number': task_number,\n",
    "                        'cross_val_score': cross_score,\n",
    "                        'lda_name': lda_name,\n",
    "                        'baseline_corrected': baseline_correct,\n",
    "                        'csp_n_components': csp_n_components\n",
    "                    }\n",
    "                    # training_data = training_data.append(model_metrics, ignore_index = True)\n",
    "                    metrics = pd.DataFrame(model_metrics, index=[index])\n",
    "                    training_data = pd.concat([training_data, metrics])\n",
    "                    # training_data = training_data.append(model_metrics, ignore_index = True)\n",
    "                    # print(model_metrics)\n",
    "training_data.to_csv(\"TRAINING.csv\")"
   ]
  },
  {
   "cell_type": "code",
   "execution_count": 23,
   "metadata": {},
   "outputs": [
    {
     "name": "stderr",
     "output_type": "stream",
     "text": [
      "/tmp/ipykernel_21518/2578010160.py:1: FutureWarning: The default value of numeric_only in DataFrameGroupBy.mean is deprecated. In a future version, numeric_only will default to False. Either specify numeric_only or select only columns which should be valid for the function.\n",
      "  training_data.groupby(by='csp_n_components').agg('mean')\n"
     ]
    },
    {
     "data": {
      "text/html": [
       "<div>\n",
       "<style scoped>\n",
       "    .dataframe tbody tr th:only-of-type {\n",
       "        vertical-align: middle;\n",
       "    }\n",
       "\n",
       "    .dataframe tbody tr th {\n",
       "        vertical-align: top;\n",
       "    }\n",
       "\n",
       "    .dataframe thead th {\n",
       "        text-align: right;\n",
       "    }\n",
       "</style>\n",
       "<table border=\"1\" class=\"dataframe\">\n",
       "  <thead>\n",
       "    <tr style=\"text-align: right;\">\n",
       "      <th></th>\n",
       "      <th>subject</th>\n",
       "      <th>task_number</th>\n",
       "      <th>cross_val_score</th>\n",
       "      <th>baseline_corrected</th>\n",
       "    </tr>\n",
       "    <tr>\n",
       "      <th>csp_n_components</th>\n",
       "      <th></th>\n",
       "      <th></th>\n",
       "      <th></th>\n",
       "      <th></th>\n",
       "    </tr>\n",
       "  </thead>\n",
       "  <tbody>\n",
       "    <tr>\n",
       "      <th>4</th>\n",
       "      <td>10.5</td>\n",
       "      <td>1.5</td>\n",
       "      <td>0.814729</td>\n",
       "      <td>0.5</td>\n",
       "    </tr>\n",
       "    <tr>\n",
       "      <th>6</th>\n",
       "      <td>10.5</td>\n",
       "      <td>1.5</td>\n",
       "      <td>0.814986</td>\n",
       "      <td>0.5</td>\n",
       "    </tr>\n",
       "  </tbody>\n",
       "</table>\n",
       "</div>"
      ],
      "text/plain": [
       "                  subject  task_number  cross_val_score  baseline_corrected\n",
       "csp_n_components                                                           \n",
       "4                    10.5          1.5         0.814729                 0.5\n",
       "6                    10.5          1.5         0.814986                 0.5"
      ]
     },
     "execution_count": 23,
     "metadata": {},
     "output_type": "execute_result"
    }
   ],
   "source": [
    "training_data.groupby(by='csp_n_components').agg('mean')\n",
    "# training_data.groupby(by='lda_name').agg('mean')\n",
    "# training_data = training_data.fillna(0.)\n",
    "# training_data"
   ]
  },
  {
   "cell_type": "code",
   "execution_count": 6,
   "metadata": {},
   "outputs": [
    {
     "name": "stdout",
     "output_type": "stream",
     "text": [
      "trained_pipeline_score: 1.00\n",
      "score 0.8666666666666667\n",
      "\n",
      "normal prediction\n",
      "right = 35\n",
      "wrong = 3\n",
      "right/(right + wrong) = 0.9210526315789473\n",
      "predicted / (predicted + ignored) = 0.8444444444444444\n",
      "\n",
      "proba threshold prediction\n",
      "right = 39\n",
      "wrong = 6\n",
      "right/(right + wrong) = 0.8666666666666667\n"
     ]
    }
   ],
   "source": [
    "import time\n",
    "\n",
    "e = get_epochs(task_number=0, subject_number=16)\n",
    "pipeline = build_pipe('shrimp')\n",
    "trained_pipeline = train_pipeline(pipeline, e)\n",
    "print(\"score\", trained_pipeline.score(e.get_data(), e.events[:, -1]))\n",
    "\n",
    "def predict_epochs(pipe, epochs: Epochs):\n",
    "    epochs_data = epochs.get_data()\n",
    "    events = epochs.events\n",
    "    right = 0\n",
    "    wrong = 0\n",
    "    for i, event in enumerate(events):\n",
    "        last_time = event[0]\n",
    "        right_answer = event[2]\n",
    "        prediction  = pipe.predict(epochs_data[i, None, :, :])[0]\n",
    "        right += prediction == right_answer\n",
    "        wrong += prediction != right_answer\n",
    "        \n",
    "    print(f\"{right = }\\n{wrong = }\\n{right/(right + wrong) = }\")\n",
    "\n",
    "\n",
    "def predict_epochs_proba(pipe, epochs: Epochs, threshold: float):\n",
    "    epochs_data = epochs.get_data()\n",
    "    events = epochs.events\n",
    "    right = 0\n",
    "    wrong = 0\n",
    "    predicted = 0\n",
    "    ignored = 0\n",
    "    ignored = 0\n",
    "    for i, event in enumerate(events):\n",
    "        right_answer = event[2]\n",
    "        \n",
    "        prediction_distribution = pipe.predict_proba(epochs_data[i, None, :, :])\n",
    "        if np.max(prediction_distribution) > threshold:\n",
    "            prediction = np.argmax(prediction_distribution) + 1\n",
    "            right += prediction == right_answer\n",
    "            wrong += prediction != right_answer\n",
    "            predicted += 1\n",
    "        else:\n",
    "            ignored += 1\n",
    "\n",
    "    print(f\"{right = }\\n{wrong = }\\n{right/(right + wrong) = }\\n{predicted / (predicted + ignored) = }\")\n",
    "\n",
    "print(\"\\nnormal prediction\")\n",
    "predict_epochs_proba(trained_pipeline, e, 0.7)\n",
    "\n",
    "print(\"\\nproba threshold prediction\")\n",
    "predict_epochs(trained_pipeline, e)\n"
   ]
  },
  {
   "cell_type": "code",
   "execution_count": null,
   "metadata": {},
   "outputs": [],
   "source": [
    "right = 0\n",
    "wrong = 0\n",
    "threshold = 0.80\n",
    "predictions_made = np.zeros(((num_epochs - 1) * measurements_per_epoch))\n",
    "predictions_made_e = np.zeros((num_epochs))\n",
    "\n",
    "for t in tqdm(range((num_epochs - 1) * measurements_per_epoch)):\n",
    "    t_min = t\n",
    "    t_max = t + measurements_per_epoch\n",
    "    data = stack[None, t_min:t_max, :]\n",
    "    data = np.swapaxes(data, 1, 2)\n",
    "    gt = events_stak[t]\n",
    "    # print(data.shape)\n",
    "    # break\n",
    "    prediction_distribution = trained_pipeline.predict_proba(data)\n",
    "    prediction = None\n",
    "    if np.max(prediction_distribution) > threshold or True:\n",
    "        prediction = np.argmax(prediction_distribution) + 1\n",
    "        right += prediction == gt\n",
    "        wrong += prediction != gt\n",
    "        predictions_made[t] = True\n",
    "        e = t // measurements_per_epoch\n",
    "        predictions_made_e[e] = 1.\n",
    "        print(prediction, gt)\n",
    "    # time.sleep(65. / 1000)\n",
    "\n",
    "print(f\"{right = }\\n{wrong = }\\n{right/(right + wrong) = }\\n{predictions_made_e.mean() = }\")"
   ]
  },
  {
   "cell_type": "code",
   "execution_count": 185,
   "metadata": {},
   "outputs": [
    {
     "data": {
      "text/plain": [
       "0.41379310344827586"
      ]
     },
     "execution_count": 185,
     "metadata": {},
     "output_type": "execute_result"
    }
   ],
   "source": [
    "import matplotlib\n",
    "import matplotlib.pyplot as plt\n",
    "\n",
    "# plt.plot(predictions_made)\n",
    "# plt.plot(predictions_made_e)"
   ]
  },
  {
   "attachments": {},
   "cell_type": "markdown",
   "metadata": {},
   "source": [
    "# Define Pipeline & Cross validation"
   ]
  },
  {
   "cell_type": "code",
   "execution_count": 59,
   "metadata": {},
   "outputs": [
    {
     "name": "stdout",
     "output_type": "stream",
     "text": [
      "Classification accuracy: 0.544856 / Chance level: 0.511111\n"
     ]
    }
   ],
   "source": [
    "\n",
    "# Define a monte-carlo cross-validation generator (reduce variance):\n",
    "scores = []\n",
    "cv = ShuffleSplit(10, test_size=0.2, random_state=42)\n",
    "cv_split = cv.split(epochs_data)\n",
    "\n",
    "# Assemble a classifier\n",
    "lda = LinearDiscriminantAnalysis()\n",
    "csp = CSP(n_components=8, reg=None, log=True, norm_trace=False)\n",
    "\n",
    "# Use scikit-learn Pipeline with cross_val_score function\n",
    "clf = Pipeline([('CSP', csp), ('LDA', lda)])\n",
    "# scores = cross_val_score(clf, epochs_data, labels, cv=cv, n_jobs=None)\n",
    "scores = cross_val_score(clf, epochs_data_stak, labels_stak, cv=cv, n_jobs=None)\n",
    "\n",
    "# Printing the results\n",
    "class_balance = np.mean(labels == labels[0])\n",
    "class_balance = max(class_balance, 1. - class_balance)\n",
    "print(\"Classification accuracy: %f / Chance level: %f\" % (np.mean(scores), class_balance))\n"
   ]
  },
  {
   "attachments": {},
   "cell_type": "markdown",
   "metadata": {},
   "source": [
    "# Training"
   ]
  },
  {
   "cell_type": "code",
   "execution_count": 60,
   "metadata": {},
   "outputs": [
    {
     "data": {
      "text/plain": [
       "(45, 64, 801)"
      ]
     },
     "execution_count": 60,
     "metadata": {},
     "output_type": "execute_result"
    }
   ],
   "source": [
    "lda = LinearDiscriminantAnalysis()\n",
    "csp = CSP(n_components=4, reg=None, log=True, norm_trace=False)\n",
    "clf = Pipeline([('CSP', csp), ('LDA', lda)])\n",
    "epochs_data = epochs.get_data()\n",
    "epochs_data.shape"
   ]
  },
  {
   "cell_type": "code",
   "execution_count": 61,
   "metadata": {},
   "outputs": [
    {
     "name": "stderr",
     "output_type": "stream",
     "text": [
      " 50%|█████     | 5/10 [00:31<00:31,  6.23s/it]"
     ]
    }
   ],
   "source": [
    "from tqdm import tqdm\n",
    "\n",
    "sfreq = raw.info['sfreq']\n",
    "w_length = int(sfreq * 0.5)   # running classifier: window length\n",
    "w_step = int(sfreq * 0.1)  # running classifier: window step size\n",
    "w_start = np.arange(0, epochs_data.shape[2] - w_length, w_step)\n",
    "\n",
    "scores_windows = []\n",
    "\n",
    "cv_split = cv.split(epochs_data_stak)\n",
    "train_indexes, test_indexes = next(cv_split)\n",
    "\n",
    "scores = []\n",
    "for i in tqdm(range(10)):\n",
    "    # y_train, y_test = labels[train_idx], labels[test_idx]\n",
    "\n",
    "    X_train = csp.fit_transform(epochs_data_stak[train_indexes], labels_stak[train_indexes])\n",
    "    X_test = csp.transform(epochs_data_stak[test_indexes])\n",
    "\n",
    "    # fit classifier\n",
    "    lda.fit(X_train, labels_stak[train_indexes])\n",
    "    scores.append(lda.score(X_test, labels_stak[test_indexes]))\n",
    "    # running classifier: test classifier on sliding window\n",
    "    score_this_window = []\n",
    "    for n in w_start:\n",
    "        X_test = csp.transform(epochs_data_stak[test_indexes][:, :, n:(n + w_length)])\n",
    "        score_this_window.append(lda.score(X_test, labels_stak[test_indexes]))\n",
    "    scores_windows.append(score_this_window)\n",
    "\n",
    "# Plot scores over time\n",
    "w_times = (w_start + w_length / 2.) / sfreq + epochs.tmin\n",
    "\n",
    "plt.figure()\n",
    "# plt.plot(w_times, np.mean(scores_windows, 0), label='Score')\n",
    "plt.plot(scores, label='Scores')\n",
    "plt.axvline(0, linestyle='--', color='k', label='Onset')\n",
    "plt.axhline(0.5, linestyle='-', color='k', label='Chance')\n",
    "plt.xlabel('time (s)')\n",
    "plt.ylabel('classification accuracy')\n",
    "plt.title('Classification score over time')\n",
    "plt.legend(loc='lower right')\n",
    "plt.show()"
   ]
  },
  {
   "cell_type": "code",
   "execution_count": null,
   "metadata": {},
   "outputs": [
    {
     "data": {
      "text/plain": [
       "[<matplotlib.lines.Line2D at 0x7f0742888fa0>]"
      ]
     },
     "execution_count": 55,
     "metadata": {},
     "output_type": "execute_result"
    },
    {
     "data": {
      "image/png": "[encoded data removed]",
      "text/plain": [
       "<Figure size 640x480 with 1 Axes>"
      ]
     },
     "metadata": {},
     "output_type": "display_data"
    }
   ],
   "source": [
    "plt.plot(scores, label='Scores')\n"
   ]
  }
 ],
 "metadata": {
  "kernelspec": {
   "display_name": "venv",
   "language": "python",
   "name": "python3"
  },
  "language_info": {
   "codemirror_mode": {
    "name": "ipython",
    "version": 3
   },
   "file_extension": ".py",
   "mimetype": "text/x-python",
   "name": "python",
   "nbconvert_exporter": "python",
   "pygments_lexer": "ipython3",
   "version": "3.8.10"
  },
  "orig_nbformat": 4
 },
 "nbformat": 4,
 "nbformat_minor": 2
}
